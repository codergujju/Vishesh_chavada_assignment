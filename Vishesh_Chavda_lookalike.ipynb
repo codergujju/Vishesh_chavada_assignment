{
 "cells": [
  {
   "cell_type": "code",
   "execution_count": 5,
   "metadata": {},
   "outputs": [],
   "source": [
    "import pandas as pd\n",
    "import numpy as np \n",
    "import matplotlib.pyplot as plt\n",
    "import seaborn as sns\n",
    "from sklearn.metrics.pairwise import cosine_similarity\n",
    "from sklearn.preprocessing import StandardScaler, LabelEncoder"
   ]
  },
  {
   "cell_type": "code",
   "execution_count": 6,
   "metadata": {},
   "outputs": [
    {
     "name": "stderr",
     "output_type": "stream",
     "text": [
      "<>:2: SyntaxWarning: invalid escape sequence '\\O'\n",
      "<>:3: SyntaxWarning: invalid escape sequence '\\O'\n",
      "<>:2: SyntaxWarning: invalid escape sequence '\\O'\n",
      "<>:3: SyntaxWarning: invalid escape sequence '\\O'\n",
      "C:\\Users\\VISHESH\\AppData\\Local\\Temp\\ipykernel_17996\\2822957817.py:2: SyntaxWarning: invalid escape sequence '\\O'\n",
      "  Data2=pd.read_csv('\\\\Users\\\\VISHESH\\OneDrive\\\\Desktop\\\\zepto\\\\Products.csv')\n",
      "C:\\Users\\VISHESH\\AppData\\Local\\Temp\\ipykernel_17996\\2822957817.py:3: SyntaxWarning: invalid escape sequence '\\O'\n",
      "  Data3=pd.read_csv(\"\\\\Users\\\\VISHESH\\OneDrive\\\\Desktop\\\\zepto\\\\Transactions.csv\")\n"
     ]
    }
   ],
   "source": [
    "Data1=pd.read_csv(\"\\\\Users\\\\VISHESH\\\\OneDrive\\\\Desktop\\\\zepto\\\\Customers.csv\")\n",
    "Data2=pd.read_csv('\\\\Users\\\\VISHESH\\OneDrive\\\\Desktop\\\\zepto\\\\Products.csv')\n",
    "Data3=pd.read_csv(\"\\\\Users\\\\VISHESH\\OneDrive\\\\Desktop\\\\zepto\\\\Transactions.csv\")"
   ]
  },
  {
   "cell_type": "code",
   "execution_count": 7,
   "metadata": {},
   "outputs": [],
   "source": [
    "merged_data = Data3.merge(Data1, on=\"CustomerID\", how=\"left\")\n",
    "merged_data = merged_data.merge(Data2, on=\"ProductID\", how=\"left\")\n",
    "\n"
   ]
  },
  {
   "cell_type": "code",
   "execution_count": 8,
   "metadata": {},
   "outputs": [],
   "source": [
    "\n",
    "customer_profiles = merged_data.groupby(\"CustomerID\").agg(\n",
    "    total_spending=(\"TotalValue\", \"sum\"),\n",
    "    transaction_count=(\"TransactionID\", \"count\"),\n",
    "    unique_categories=(\"Category\", lambda x: x.nunique()),\n",
    "    region=(\"Region\", \"first\")\n",
    ").reset_index()\n",
    "\n",
    "label_encoder = LabelEncoder()\n",
    "customer_profiles[\"region_encoded\"] = label_encoder.fit_transform(customer_profiles[\"region\"])\n",
    "\n",
    "features = customer_profiles[[\"total_spending\", \"transaction_count\", \"unique_categories\", \"region_encoded\"]]\n",
    "scaler = StandardScaler()\n",
    "features_scaled = scaler.fit_transform(features)\n",
    "\n",
    "similarity_matrix = cosine_similarity(features_scaled)\n",
    "\n",
    "customer_ids = customer_profiles[\"CustomerID\"].tolist()\n",
    "lookalike_map = {}\n",
    "\n",
    "for i in range(20):  \n",
    "    similar_customers = sorted(\n",
    "        enumerate(similarity_matrix[i]),\n",
    "        key=lambda x: x[1],\n",
    "        reverse=True\n",
    "    )[1:4]  \n",
    "    lookalike_map[customer_ids[i]] = [\n",
    "        {\"cust_id\": customer_ids[j], \"score\": round(score, 3)}\n",
    "        for j, score in similar_customers\n",
    "    ]\n",
    "\n",
    "# Save the lookalike map to Lookalike.csv\n",
    "lookalike_df = pd.DataFrame.from_dict(lookalike_map, orient=\"index\")\n",
    "lookalike_df.to_csv(\"Vishesh_chavda_Lookalike.csv\", index_label=\"CustomerID\")"
   ]
  }
 ],
 "metadata": {
  "kernelspec": {
   "display_name": "Python 3",
   "language": "python",
   "name": "python3"
  },
  "language_info": {
   "codemirror_mode": {
    "name": "ipython",
    "version": 3
   },
   "file_extension": ".py",
   "mimetype": "text/x-python",
   "name": "python",
   "nbconvert_exporter": "python",
   "pygments_lexer": "ipython3",
   "version": "3.12.7"
  }
 },
 "nbformat": 4,
 "nbformat_minor": 2
}
